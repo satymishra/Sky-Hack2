{
 "cells": [
  {
   "cell_type": "code",
   "execution_count": 1,
   "id": "099f7c2b",
   "metadata": {},
   "outputs": [],
   "source": [
    "import numpy as np \n",
    "import pandas as pd\n",
    "import matplotlib.pyplot as plt \n",
    "import seaborn as sns \n",
    "pd.set_option('display.max_columns', None)"
   ]
  },
  {
   "cell_type": "code",
   "execution_count": 3,
   "id": "840ae9fd",
   "metadata": {},
   "outputs": [],
   "source": [
    "df = pd.read_csv(\"Inflight Service_Pre order data.csv\")"
   ]
  },
  {
   "cell_type": "code",
   "execution_count": 4,
   "id": "0210942b",
   "metadata": {},
   "outputs": [
    {
     "data": {
      "text/html": [
       "<div>\n",
       "<style scoped>\n",
       "    .dataframe tbody tr th:only-of-type {\n",
       "        vertical-align: middle;\n",
       "    }\n",
       "\n",
       "    .dataframe tbody tr th {\n",
       "        vertical-align: top;\n",
       "    }\n",
       "\n",
       "    .dataframe thead th {\n",
       "        text-align: right;\n",
       "    }\n",
       "</style>\n",
       "<table border=\"1\" class=\"dataframe\">\n",
       "  <thead>\n",
       "    <tr style=\"text-align: right;\">\n",
       "      <th></th>\n",
       "      <th>flight_number</th>\n",
       "      <th>departure_station_code</th>\n",
       "      <th>arrival_station_code</th>\n",
       "      <th>record_locator</th>\n",
       "      <th>carrier_code</th>\n",
       "      <th>scheduled_departure_dtl</th>\n",
       "      <th>cabin_code</th>\n",
       "      <th>meal_group</th>\n",
       "      <th>meal_category</th>\n",
       "      <th>meal_short_description</th>\n",
       "      <th>meal_description</th>\n",
       "      <th>is_entree</th>\n",
       "      <th>pre_order_qty</th>\n",
       "    </tr>\n",
       "  </thead>\n",
       "  <tbody>\n",
       "    <tr>\n",
       "      <th>0</th>\n",
       "      <td>1423</td>\n",
       "      <td>INX</td>\n",
       "      <td>DEX</td>\n",
       "      <td>B3XX1H</td>\n",
       "      <td>UA</td>\n",
       "      <td>9/1/2022</td>\n",
       "      <td>J</td>\n",
       "      <td>ENTREES HOT</td>\n",
       "      <td>POULTRY</td>\n",
       "      <td>Za'atar chicken with spinach, roasted peppers,...</td>\n",
       "      <td>Za'atar chicken with spinach, roasted peppers,...</td>\n",
       "      <td>Y</td>\n",
       "      <td>1</td>\n",
       "    </tr>\n",
       "    <tr>\n",
       "      <th>1</th>\n",
       "      <td>1620</td>\n",
       "      <td>IAX</td>\n",
       "      <td>CUX</td>\n",
       "      <td>BFXXJC</td>\n",
       "      <td>UA</td>\n",
       "      <td>9/2/2022</td>\n",
       "      <td>J</td>\n",
       "      <td>ENTREES HOT</td>\n",
       "      <td>BREAKFAST</td>\n",
       "      <td>Tomato and kale baked egg</td>\n",
       "      <td>Tomato and kale baked egg with fire roasted re...</td>\n",
       "      <td>Y</td>\n",
       "      <td>2</td>\n",
       "    </tr>\n",
       "    <tr>\n",
       "      <th>2</th>\n",
       "      <td>1852</td>\n",
       "      <td>ORX</td>\n",
       "      <td>PDX</td>\n",
       "      <td>DPXX2H</td>\n",
       "      <td>UA</td>\n",
       "      <td>9/2/2022</td>\n",
       "      <td>J</td>\n",
       "      <td>ENTREES HOT</td>\n",
       "      <td>BREAKFAST</td>\n",
       "      <td>Tomato and kale baked egg</td>\n",
       "      <td>Tomato and kale baked egg with fire roasted re...</td>\n",
       "      <td>Y</td>\n",
       "      <td>1</td>\n",
       "    </tr>\n",
       "    <tr>\n",
       "      <th>3</th>\n",
       "      <td>548</td>\n",
       "      <td>IAX</td>\n",
       "      <td>SFX</td>\n",
       "      <td>ELXX8H</td>\n",
       "      <td>UA</td>\n",
       "      <td>9/2/2022</td>\n",
       "      <td>J</td>\n",
       "      <td>ENTREES HOT</td>\n",
       "      <td>BREAKFAST</td>\n",
       "      <td>Scrambled eggs</td>\n",
       "      <td>Scrambled eggs with ham, onion and peppers</td>\n",
       "      <td>Y</td>\n",
       "      <td>2</td>\n",
       "    </tr>\n",
       "    <tr>\n",
       "      <th>4</th>\n",
       "      <td>1155</td>\n",
       "      <td>IAX</td>\n",
       "      <td>CUX</td>\n",
       "      <td>NCXX4S</td>\n",
       "      <td>UA</td>\n",
       "      <td>9/2/2022</td>\n",
       "      <td>J</td>\n",
       "      <td>ENTREES HOT</td>\n",
       "      <td>BREAKFAST</td>\n",
       "      <td>Belgium waffle</td>\n",
       "      <td>Belgium waffle with bourbon banana fosters sau...</td>\n",
       "      <td>Y</td>\n",
       "      <td>2</td>\n",
       "    </tr>\n",
       "  </tbody>\n",
       "</table>\n",
       "</div>"
      ],
      "text/plain": [
       "   flight_number departure_station_code arrival_station_code record_locator  \\\n",
       "0           1423                    INX                  DEX         B3XX1H   \n",
       "1           1620                    IAX                  CUX         BFXXJC   \n",
       "2           1852                    ORX                  PDX         DPXX2H   \n",
       "3            548                    IAX                  SFX         ELXX8H   \n",
       "4           1155                    IAX                  CUX         NCXX4S   \n",
       "\n",
       "  carrier_code scheduled_departure_dtl cabin_code   meal_group meal_category  \\\n",
       "0           UA                9/1/2022          J  ENTREES HOT       POULTRY   \n",
       "1           UA                9/2/2022          J  ENTREES HOT     BREAKFAST   \n",
       "2           UA                9/2/2022          J  ENTREES HOT     BREAKFAST   \n",
       "3           UA                9/2/2022          J  ENTREES HOT     BREAKFAST   \n",
       "4           UA                9/2/2022          J  ENTREES HOT     BREAKFAST   \n",
       "\n",
       "                              meal_short_description  \\\n",
       "0  Za'atar chicken with spinach, roasted peppers,...   \n",
       "1                          Tomato and kale baked egg   \n",
       "2                          Tomato and kale baked egg   \n",
       "3                                     Scrambled eggs   \n",
       "4                                     Belgium waffle   \n",
       "\n",
       "                                    meal_description is_entree  pre_order_qty  \n",
       "0  Za'atar chicken with spinach, roasted peppers,...         Y              1  \n",
       "1  Tomato and kale baked egg with fire roasted re...         Y              2  \n",
       "2  Tomato and kale baked egg with fire roasted re...         Y              1  \n",
       "3         Scrambled eggs with ham, onion and peppers         Y              2  \n",
       "4  Belgium waffle with bourbon banana fosters sau...         Y              2  "
      ]
     },
     "execution_count": 4,
     "metadata": {},
     "output_type": "execute_result"
    }
   ],
   "source": [
    "df.head()"
   ]
  },
  {
   "cell_type": "code",
   "execution_count": 5,
   "id": "597b8168",
   "metadata": {},
   "outputs": [
    {
     "data": {
      "text/plain": [
       "(212039, 13)"
      ]
     },
     "execution_count": 5,
     "metadata": {},
     "output_type": "execute_result"
    }
   ],
   "source": [
    "df.shape"
   ]
  },
  {
   "cell_type": "code",
   "execution_count": 6,
   "id": "639e18f0",
   "metadata": {},
   "outputs": [],
   "source": [
    "df.dropna(inplace = True)"
   ]
  },
  {
   "cell_type": "code",
   "execution_count": 7,
   "id": "ca1d30a3",
   "metadata": {},
   "outputs": [
    {
     "data": {
      "text/plain": [
       "(137062, 13)"
      ]
     },
     "execution_count": 7,
     "metadata": {},
     "output_type": "execute_result"
    }
   ],
   "source": [
    "df.shape"
   ]
  },
  {
   "cell_type": "code",
   "execution_count": 11,
   "id": "0f81ce0d",
   "metadata": {},
   "outputs": [],
   "source": [
    "df = pd.read_csv('Survey data _Customer comments.csv')"
   ]
  },
  {
   "cell_type": "code",
   "execution_count": 12,
   "id": "53ce968f",
   "metadata": {},
   "outputs": [
    {
     "data": {
      "text/plain": [
       "(9424, 14)"
      ]
     },
     "execution_count": 12,
     "metadata": {},
     "output_type": "execute_result"
    }
   ],
   "source": [
    "df.shape"
   ]
  },
  {
   "cell_type": "code",
   "execution_count": 13,
   "id": "baf62374",
   "metadata": {},
   "outputs": [
    {
     "data": {
      "text/plain": [
       "flight_number                  0\n",
       "origin_station_code            0\n",
       "destination_station_code       0\n",
       "scheduled_departure_date       0\n",
       "arrival_delay_group            0\n",
       "departure_delay_group          0\n",
       "entity                         0\n",
       "verbatim_text                  0\n",
       "seat_factor_band               0\n",
       "ques_verbatim_text             0\n",
       "loyalty_program_level       2504\n",
       "fleet_type_description         0\n",
       "fleet_usage                    0\n",
       "response_group                 0\n",
       "dtype: int64"
      ]
     },
     "execution_count": 13,
     "metadata": {},
     "output_type": "execute_result"
    }
   ],
   "source": [
    "df.isnull().sum()"
   ]
  },
  {
   "cell_type": "code",
   "execution_count": 14,
   "id": "6b4217a7",
   "metadata": {},
   "outputs": [
    {
     "data": {
      "text/plain": [
       "array(['non-elite', nan, 'premier gold', 'premier 1k', 'premier silver',\n",
       "       'global services', 'premier platinum', 'NBK'], dtype=object)"
      ]
     },
     "execution_count": 14,
     "metadata": {},
     "output_type": "execute_result"
    }
   ],
   "source": [
    "df['loyalty_program_level'].unique()"
   ]
  },
  {
   "cell_type": "code",
   "execution_count": 15,
   "id": "822d7f95",
   "metadata": {},
   "outputs": [],
   "source": [
    "df = pd.read_csv('Survey data_Inflight Satisfaction Score.csv')"
   ]
  },
  {
   "cell_type": "code",
   "execution_count": 16,
   "id": "c46cb564",
   "metadata": {},
   "outputs": [
    {
     "data": {
      "text/plain": [
       "flight_number                           0\n",
       "origin_station_code                     0\n",
       "destination_station_code                0\n",
       "record_locator                          0\n",
       "scheduled_departure_date                0\n",
       "question_text                           0\n",
       "score                                   0\n",
       "satisfaction_type                   12111\n",
       "driver_sub_group1                       0\n",
       "driver_sub_group2                       0\n",
       "arrival_delay_minutes                   0\n",
       "arrival_delay_group                     0\n",
       "cabin_code_desc                         0\n",
       "cabin_name                          19980\n",
       "entity                                  3\n",
       "number_of_legs                          0\n",
       "seat_factor_band                        0\n",
       "loyalty_program_level               11616\n",
       "generation                              0\n",
       "fleet_type_description                  0\n",
       "fleet_usage                             0\n",
       "equipment_type_code                     0\n",
       "ua_uax                                  0\n",
       "actual_flown_miles                      0\n",
       "haul_type                               0\n",
       "departure_gate                         97\n",
       "arrival_gate                          527\n",
       "international_domestic_indicator        0\n",
       "response_group                          0\n",
       "media_provider                       1539\n",
       "hub_spoke                               0\n",
       "dtype: int64"
      ]
     },
     "execution_count": 16,
     "metadata": {},
     "output_type": "execute_result"
    }
   ],
   "source": [
    "df.isnull().sum()"
   ]
  },
  {
   "cell_type": "code",
   "execution_count": 17,
   "id": "551409bc",
   "metadata": {},
   "outputs": [
    {
     "data": {
      "text/plain": [
       "(47074, 31)"
      ]
     },
     "execution_count": 17,
     "metadata": {},
     "output_type": "execute_result"
    }
   ],
   "source": [
    "df.shape"
   ]
  },
  {
   "cell_type": "code",
   "execution_count": 18,
   "id": "5e8e41a2",
   "metadata": {},
   "outputs": [],
   "source": [
    "df = pd.read_csv('Survey data_Inflight Satisfaction Score.csv')"
   ]
  },
  {
   "cell_type": "code",
   "execution_count": 20,
   "id": "94f0fb4e",
   "metadata": {},
   "outputs": [
    {
     "data": {
      "text/plain": [
       "(47074, 31)"
      ]
     },
     "execution_count": 20,
     "metadata": {},
     "output_type": "execute_result"
    }
   ],
   "source": [
    "df.shape"
   ]
  },
  {
   "cell_type": "code",
   "execution_count": 21,
   "id": "8ea91312",
   "metadata": {},
   "outputs": [
    {
     "data": {
      "text/plain": [
       "Index(['flight_number', 'origin_station_code', 'destination_station_code',\n",
       "       'record_locator', 'scheduled_departure_date', 'question_text', 'score',\n",
       "       'satisfaction_type', 'driver_sub_group1', 'driver_sub_group2',\n",
       "       'arrival_delay_minutes', 'arrival_delay_group', 'cabin_code_desc',\n",
       "       'cabin_name', 'entity', 'number_of_legs', 'seat_factor_band',\n",
       "       'loyalty_program_level', 'generation', 'fleet_type_description',\n",
       "       'fleet_usage', 'equipment_type_code', 'ua_uax', 'actual_flown_miles',\n",
       "       'haul_type', 'departure_gate', 'arrival_gate',\n",
       "       'international_domestic_indicator', 'response_group', 'media_provider',\n",
       "       'hub_spoke'],\n",
       "      dtype='object')"
      ]
     },
     "execution_count": 21,
     "metadata": {},
     "output_type": "execute_result"
    }
   ],
   "source": [
    "df.columns"
   ]
  },
  {
   "cell_type": "code",
   "execution_count": 22,
   "id": "9f190e33",
   "metadata": {},
   "outputs": [
    {
     "name": "stdout",
     "output_type": "stream",
     "text": [
      "**Keyword: selection**\n",
      "+--------------------------------------------------------------------+--------------------------------------------------------------------+\n",
      "| Problems:                                                          | Improvements:                                                      |\n",
      "+====================================================================+====================================================================+\n",
      "| Dissatisfaction with available food selection.                     | Conduct surveys and gather feedback for specific preferences.      |\n",
      "+--------------------------------------------------------------------+--------------------------------------------------------------------+\n",
      "| Expectations for broader and diverse food options.                 | Enrich the menu with a variety of international and local options. |\n",
      "+--------------------------------------------------------------------+--------------------------------------------------------------------+\n",
      "| Frustration due to limited choices not catering to varying tastes. | Collaborate on rotating seasonal menus for diverse tastes.         |\n",
      "+--------------------------------------------------------------------+--------------------------------------------------------------------+\n",
      "\n",
      "\n",
      "**Keyword: offer**\n",
      "+-----------------------------------------------------------------------------+------------------------------------------------------------+\n",
      "| Problems:                                                                   | Improvements:                                              |\n",
      "+=============================================================================+============================================================+\n",
      "| Passengers seeking more appealing and innovative meal offerings.            | Collaborate with culinary experts for creative new dishes. |\n",
      "+-----------------------------------------------------------------------------+------------------------------------------------------------+\n",
      "| Expectations for diverse and unique dishes enhancing the dining experience. | Introduce special menu items showcasing local cuisine.     |\n",
      "+-----------------------------------------------------------------------------+------------------------------------------------------------+\n",
      "| Frustration when meal options don't align with personal preferences.        | Provide customizable meal options for personalization.     |\n",
      "+-----------------------------------------------------------------------------+------------------------------------------------------------+\n",
      "\n",
      "\n"
     ]
    }
   ],
   "source": [
    "from tabulate import tabulate\n",
    "\n",
    "# Define data for the tables\n",
    "keywords = ['selection', 'offer']\n",
    "problems = [\n",
    "    [\"Dissatisfaction with available food selection.\",\n",
    "     \"Expectations for broader and diverse food options.\",\n",
    "     \"Frustration due to limited choices not catering to varying tastes.\"],\n",
    "    [\"Passengers seeking more appealing and innovative meal offerings.\",\n",
    "     \"Expectations for diverse and unique dishes enhancing the dining experience.\",\n",
    "     \"Frustration when meal options don't align with personal preferences.\"]\n",
    "]\n",
    "improvements = [\n",
    "    [\"Conduct surveys and gather feedback for specific preferences.\",\n",
    "     \"Enrich the menu with a variety of international and local options.\",\n",
    "     \"Collaborate on rotating seasonal menus for diverse tastes.\"],\n",
    "    [\"Collaborate with culinary experts for creative new dishes.\",\n",
    "     \"Introduce special menu items showcasing local cuisine.\",\n",
    "     \"Provide customizable meal options for personalization.\"]\n",
    "]\n",
    "\n",
    "# Create and print the tables\n",
    "for i in range(len(keywords)):\n",
    "    print(f\"**Keyword: {keywords[i]}**\")\n",
    "    table_data = list(zip(problems[i], improvements[i]))\n",
    "    table = tabulate(table_data, headers=[\"Problems:\", \"Improvements:\"], tablefmt=\"grid\")\n",
    "    print(table)\n",
    "    print(\"\\n\")\n"
   ]
  },
  {
   "cell_type": "code",
   "execution_count": null,
   "id": "cc973398",
   "metadata": {},
   "outputs": [],
   "source": []
  }
 ],
 "metadata": {
  "kernelspec": {
   "display_name": "Python 3 (ipykernel)",
   "language": "python",
   "name": "python3"
  },
  "language_info": {
   "codemirror_mode": {
    "name": "ipython",
    "version": 3
   },
   "file_extension": ".py",
   "mimetype": "text/x-python",
   "name": "python",
   "nbconvert_exporter": "python",
   "pygments_lexer": "ipython3",
   "version": "3.10.9"
  }
 },
 "nbformat": 4,
 "nbformat_minor": 5
}
